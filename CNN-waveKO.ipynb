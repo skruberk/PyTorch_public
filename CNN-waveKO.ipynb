{
 "cells": [
  {
   "cell_type": "code",
   "execution_count": 21,
   "id": "6bcdaa43-c7b1-45c8-a98c-1dfcbc080920",
   "metadata": {},
   "outputs": [],
   "source": [
    "#load dataset for CNN \n",
    "import os\n",
    "from PIL import Image\n",
    "import numpy as np\n",
    "from scipy.signal import convolve2d\n",
    "# to read an image from a url\n",
    "from imageio import imread\n",
    "import matplotlib.pyplot as plt\n",
    "%matplotlib inline\n",
    "import matplotlib.image as mpimg\n",
    "import torch\n",
    "import torch.nn as nn\n",
    "import torch.optim as optim\n",
    "import torch.nn.functional as F\n",
    "from torchsummary import summary\n",
    "import torchvision\n",
    "import torchvision.transforms as T\n",
    "from torchvision import datasets, transforms\n",
    "from PIL import Image\n",
    "from torchvision.datasets import MNIST\n",
    "from torch.utils.data import DataLoader,TensorDataset\n",
    "import warnings\n",
    "warnings.filterwarnings('ignore')\n",
    "from sklearn.metrics import confusion_matrix, ConfusionMatrixDisplay\n",
    "import gc"
   ]
  },
  {
   "cell_type": "code",
   "execution_count": 2,
   "id": "c041cd89-5190-45d3-994e-761e6559b64e",
   "metadata": {},
   "outputs": [
    {
     "name": "stdout",
     "output_type": "stream",
     "text": [
      "CUDA is not available. Running on CPU.\n"
     ]
    }
   ],
   "source": [
    "import torch\n",
    "# Check if CUDA is available\n",
    "if torch.cuda.is_available():\n",
    "    # Create a tensor on GPU\n",
    "    device = torch.device('cuda')\n",
    "    x = torch.tensor([1.0, 2.0]).to(device)\n",
    "    \n",
    "    # Create a model and move it to GPU\n",
    "    model = YourModel().to(device)\n",
    "    \n",
    "    # Perform operations on GPU\n",
    "    output = model(x)\n",
    "    print(output)\n",
    "else:\n",
    "    print(\"CUDA is not available. Running on CPU.\")"
   ]
  },
  {
   "cell_type": "code",
   "execution_count": 5,
   "id": "7f1cbeaf-5a23-4b6a-ba62-740e8e1a2c39",
   "metadata": {},
   "outputs": [
    {
     "name": "stdout",
     "output_type": "stream",
     "text": [
      "\n",
      "Overall Mean: nan\n",
      "Overall Standard Deviation: nan\n"
     ]
    }
   ],
   "source": [
    "#get mean and standard deviation for each image and then average\n",
    "def compute_image_stats(image_path):\n",
    "    # Load the image\n",
    "    image = Image.open(image_path)\n",
    "    # Convert the image to a NumPy array\n",
    "    image_array = np.array(image)\n",
    "    # Compute mean and standard deviation\n",
    "    mean = np.mean(image_array)\n",
    "    std = np.std(image_array)\n",
    "    return mean, std\n",
    "# Specify the directory containing the images\n",
    "folder_path = 'data/trainmask'\n",
    "folder_path2 = 'data/testmask'\n",
    "def process_images_in_folder(folder_path):\n",
    "    means = []\n",
    "    stds = []\n",
    "    \n",
    "    # Iterate over all files in the directory\n",
    "    for filename in os.listdir(folder_path):\n",
    "        if filename.endswith('.tif'):\n",
    "            image_path = os.path.join(folder_path, filename)\n",
    "            mean, std = compute_image_stats(image_path)\n",
    "            means.append(mean)\n",
    "            stds.append(std)\n",
    "            #print(f\"Processed {filename}:\");\n",
    "            #print(f\"  Mean: {mean}\");\n",
    "            #print(f\"  Standard Deviation: {std}\");   \n",
    "    overall_mean = np.mean(means)\n",
    "    overall_std = np.mean(stds)    \n",
    "    print(f\"\\nOverall Mean: {overall_mean}\")\n",
    "    print(f\"Overall Standard Deviation: {overall_std}\")\n",
    "\n",
    "# Specify the directory containing the images\n",
    "folder_path = '/Users/kskruber/Documents/DUDL_PythonCode/convolution/data/trainmask'\n",
    "folder_path2 = '/Users/kskruber/Documents/DUDL_PythonCode/convolution/data/testmask'\n",
    "# Process all images in the folder\n",
    "process_images_in_folder(folder_path);"
   ]
  },
  {
   "cell_type": "code",
   "execution_count": 7,
   "id": "ff45fb04-08d8-40c0-b9cb-4633824ebd30",
   "metadata": {},
   "outputs": [],
   "source": [
    "transform = T.Compose([\n",
    "    T.Grayscale(num_output_channels=1),\n",
    "    T.ToTensor(),\n",
    "    T.Normalize((54.2/255,), (102.63/255,))  # Mean and std dev\n",
    "])\n",
    "transform2 = T.Compose([\n",
    "    T.Grayscale(num_output_channels=1),\n",
    "    T.ToTensor(),\n",
    "    T.Normalize((62.66,), (109.06,))  # Mean and std dev\n",
    "])\n",
    "transform_binary = T.Compose([\n",
    "    T.Grayscale(num_output_channels=1),\n",
    "    T.ToTensor()  #  scale the pixel values from 0-255 to 0-1\n",
    "])"
   ]
  },
  {
   "cell_type": "code",
   "execution_count": 9,
   "id": "eb103334-538d-4ded-a263-44d6ca2bf310",
   "metadata": {},
   "outputs": [],
   "source": [
    "# Load the datasets with ImageFolder\n",
    "train_dataset = datasets.ImageFolder(folder_path, transform=transform_binary)\n",
    "test_dataset = datasets.ImageFolder(folder_path2, transform=transform_binary)"
   ]
  },
  {
   "cell_type": "code",
   "execution_count": 11,
   "id": "70e823f7-b94e-496b-9033-5565230fe3f8",
   "metadata": {},
   "outputs": [
    {
     "name": "stdout",
     "output_type": "stream",
     "text": [
      "Number of images in train dataset: 130\n"
     ]
    }
   ],
   "source": [
    "# Create DataLoaders\n",
    "train_loader = DataLoader(train_dataset, batch_size=6, pin_memory=True,shuffle=True, num_workers=4)\n",
    "test_loader = DataLoader(test_dataset, batch_size=8, pin_memory=True,shuffle=True, num_workers=4)\n",
    "print(f\"Number of images in train dataset: {len(train_dataset)}\")"
   ]
  },
  {
   "cell_type": "code",
   "execution_count": 13,
   "id": "545cd6cd-22f1-400e-9042-4ac7e6839bd1",
   "metadata": {},
   "outputs": [
    {
     "name": "stdout",
     "output_type": "stream",
     "text": [
      "Shape of a single image: torch.Size([1, 1024, 1024])\n"
     ]
    }
   ],
   "source": [
    "# size check (images, channels,  width,  height)\n",
    "image, label = train_dataset[0]\n",
    "print(f\"Shape of a single image: {image.shape}\")"
   ]
  },
  {
   "cell_type": "code",
   "execution_count": 15,
   "id": "b3c5fb27-ffe1-4ece-82b9-d1d484ea812d",
   "metadata": {},
   "outputs": [],
   "source": [
    "def createNNmodel(num_classes=1,printtoggle=False):\n",
    "    class testNet(nn.Module):\n",
    "        def __init__(self, num_classes,printtoggle):\n",
    "            super().__init__()\n",
    "            self.print = printtoggle  # Initialize print attribute\n",
    "\n",
    "            ### Convolution layers\n",
    "            self.conv1 = nn.Conv2d(1, 10, kernel_size=5, stride=1, padding=1)\n",
    "            self.conv2 = nn.Conv2d(10, 20, kernel_size=5, stride=1, padding=1)\n",
    "            self.pool = nn.MaxPool2d(2, 2)  # Max pooling layer\n",
    "\n",
    "            # Calculate expected size after convolution and pooling\n",
    "            expectSize = 20 * 254 * 254  # Assuming input size 1024x1024 after convolutions and pooling\n",
    "\n",
    "            ### Fully-connected layers\n",
    "            self.fc1 = nn.Linear(expectSize, 50)\n",
    "            self.out = nn.Linear(50, 1)  # Output layer\n",
    "\n",
    "        def forward(self, x):\n",
    "            if self.print:\n",
    "                print(f'Input: {x.shape}')\n",
    "            \n",
    "            # First convolution -> maxpool -> ReLU\n",
    "            x = self.pool(F.relu(self.conv1(x)))\n",
    "            if self.print:\n",
    "                print(f'Layer conv1/pool1: {x.shape}')\n",
    "            \n",
    "            # Second convolution -> maxpool -> ReLU\n",
    "            x = self.pool(F.relu(self.conv2(x)))\n",
    "            if self.print:\n",
    "                print(f'Layer conv2/pool2: {x.shape}')\n",
    "            \n",
    "            # Flatten the tensor for the fully connected layers\n",
    "            x = x.view(-1, self.num_flat_features(x))\n",
    "            if self.print:\n",
    "                print(f'Flattened: {x.shape}')\n",
    "            \n",
    "            # Fully connected layers with ReLU activation\n",
    "            x = F.relu(self.fc1(x))\n",
    "            if self.print:\n",
    "                print(f'Layer fc1: {x.shape}')\n",
    "            \n",
    "            # Output layer\n",
    "            x = self.out(x)\n",
    "            if self.print:\n",
    "                print(f'Layer out: {x.shape}')\n",
    "            return x\n",
    "\n",
    "        def num_flat_features(self, x):\n",
    "            size = x.size()[1:]  # All dimensions except the batch dimension\n",
    "            num_features = 1\n",
    "            for s in size:\n",
    "                num_features *= s\n",
    "            return num_features\n",
    "        \n",
    "    # Create the model instance\n",
    "    net = testNet(num_classes=num_classes, printtoggle=printtoggle)\n",
    "    # Loss function for classification\n",
    "    lossfun = nn.BCEWithLogitsLoss()\n",
    "\n",
    "    # Optimizer\n",
    "    optimizer = torch.optim.Adam(net.parameters(), lr=0.0001)\n",
    "    return net, lossfun, optimizer"
   ]
  },
  {
   "cell_type": "code",
   "execution_count": 44,
   "id": "10733df5-ee66-4825-acd3-9d0ed6088d12",
   "metadata": {},
   "outputs": [
    {
     "name": "stdout",
     "output_type": "stream",
     "text": [
      " \n",
      "Loss:\n",
      "tensor(0.6770, grad_fn=<BinaryCrossEntropyWithLogitsBackward0>)\n",
      " \n",
      "torch.Size([6])\n",
      "torch.Size([6])\n",
      " \n",
      "Loss:\n",
      "tensor(0.7103, grad_fn=<BinaryCrossEntropyWithLogitsBackward0>)\n",
      " \n",
      "torch.Size([6])\n",
      "torch.Size([6])\n",
      " \n",
      "Loss:\n",
      "tensor(0.7115, grad_fn=<BinaryCrossEntropyWithLogitsBackward0>)\n",
      " \n",
      "torch.Size([6])\n",
      "torch.Size([6])\n",
      " \n",
      "Loss:\n",
      "tensor(0.6936, grad_fn=<BinaryCrossEntropyWithLogitsBackward0>)\n",
      " \n",
      "torch.Size([6])\n",
      "torch.Size([6])\n",
      " \n",
      "Loss:\n",
      "tensor(0.6767, grad_fn=<BinaryCrossEntropyWithLogitsBackward0>)\n",
      " \n",
      "torch.Size([6])\n",
      "torch.Size([6])\n",
      " \n",
      "Loss:\n",
      "tensor(0.6934, grad_fn=<BinaryCrossEntropyWithLogitsBackward0>)\n",
      " \n",
      "torch.Size([6])\n",
      "torch.Size([6])\n",
      " \n",
      "Loss:\n",
      "tensor(0.7108, grad_fn=<BinaryCrossEntropyWithLogitsBackward0>)\n",
      " \n",
      "torch.Size([6])\n",
      "torch.Size([6])\n",
      " \n",
      "Loss:\n",
      "tensor(0.7286, grad_fn=<BinaryCrossEntropyWithLogitsBackward0>)\n",
      " \n",
      "torch.Size([6])\n",
      "torch.Size([6])\n",
      " \n",
      "Loss:\n",
      "tensor(0.7285, grad_fn=<BinaryCrossEntropyWithLogitsBackward0>)\n",
      " \n",
      "torch.Size([6])\n",
      "torch.Size([6])\n",
      " \n",
      "Loss:\n",
      "tensor(0.6948, grad_fn=<BinaryCrossEntropyWithLogitsBackward0>)\n",
      " \n",
      "torch.Size([6])\n",
      "torch.Size([6])\n",
      " \n",
      "Loss:\n",
      "tensor(0.6757, grad_fn=<BinaryCrossEntropyWithLogitsBackward0>)\n",
      " \n",
      "torch.Size([6])\n",
      "torch.Size([6])\n",
      " \n",
      "Loss:\n",
      "tensor(0.7134, grad_fn=<BinaryCrossEntropyWithLogitsBackward0>)\n",
      " \n",
      "torch.Size([6])\n",
      "torch.Size([6])\n",
      " \n",
      "Loss:\n",
      "tensor(0.6430, grad_fn=<BinaryCrossEntropyWithLogitsBackward0>)\n",
      " \n",
      "torch.Size([6])\n",
      "torch.Size([6])\n",
      " \n",
      "Loss:\n",
      "tensor(0.7126, grad_fn=<BinaryCrossEntropyWithLogitsBackward0>)\n",
      " \n",
      "torch.Size([6])\n",
      "torch.Size([6])\n",
      " \n",
      "Loss:\n",
      "tensor(0.6949, grad_fn=<BinaryCrossEntropyWithLogitsBackward0>)\n",
      " \n",
      "torch.Size([6])\n",
      "torch.Size([6])\n",
      " \n",
      "Loss:\n",
      "tensor(0.6419, grad_fn=<BinaryCrossEntropyWithLogitsBackward0>)\n",
      " \n",
      "torch.Size([6])\n",
      "torch.Size([6])\n",
      " \n",
      "Loss:\n",
      "tensor(0.6950, grad_fn=<BinaryCrossEntropyWithLogitsBackward0>)\n",
      " \n",
      "torch.Size([6])\n",
      "torch.Size([6])\n",
      " \n",
      "Loss:\n",
      "tensor(0.6772, grad_fn=<BinaryCrossEntropyWithLogitsBackward0>)\n",
      " \n",
      "torch.Size([6])\n",
      "torch.Size([6])\n",
      " \n",
      "Loss:\n",
      "tensor(0.7284, grad_fn=<BinaryCrossEntropyWithLogitsBackward0>)\n",
      " \n",
      "torch.Size([6])\n",
      "torch.Size([6])\n",
      " \n",
      "Loss:\n",
      "tensor(0.6773, grad_fn=<BinaryCrossEntropyWithLogitsBackward0>)\n",
      " \n",
      "torch.Size([6])\n",
      "torch.Size([6])\n",
      " \n",
      "Loss:\n",
      "tensor(0.6605, grad_fn=<BinaryCrossEntropyWithLogitsBackward0>)\n",
      " \n",
      "torch.Size([6])\n",
      "torch.Size([6])\n",
      " \n",
      "Loss:\n",
      "tensor(0.6942, grad_fn=<BinaryCrossEntropyWithLogitsBackward0>)\n",
      " \n",
      "torch.Size([4])\n",
      "torch.Size([4])\n"
     ]
    }
   ],
   "source": [
    "#one batch test\n",
    "net,lossfun,optimizer = createNNmodel(True)\n",
    "\n",
    "for X, y in train_loader:\n",
    "    yHat = net(X)\n",
    "    yHat = yHat.view(-1)  # Flatten the output to match y\n",
    "    y = y.float()  # Convert target to float\n",
    "    loss = lossfun(yHat, y)\n",
    "\n",
    "    # check sizes of outputs\n",
    "    #print('Predicted category yHat:')\n",
    "    #print(yHat.shape)\n",
    "    #print('Predicted category y:')\n",
    "    #print(y.shape)\n",
    "    #compute the loss\n",
    "    loss = lossfun(yHat,y)\n",
    "    #print(' ')\n",
    "    #print('Loss:')\n",
    "    #print(loss)\n",
    "\n",
    "    # check sizes of model outputs and target variable\n",
    "    print(' ')\n",
    "    print(y.shape)\n",
    "    print(yHat.shape)"
   ]
  },
  {
   "cell_type": "code",
   "execution_count": 75,
   "id": "c55d2dd8-e10d-4f79-b2ff-9bfb96158aae",
   "metadata": {},
   "outputs": [
    {
     "data": {
      "text/plain": [
       "tensor([0.1274, 0.1277], grad_fn=<ViewBackward0>)"
      ]
     },
     "execution_count": 75,
     "metadata": {},
     "output_type": "execute_result"
    }
   ],
   "source": [
    "yHat"
   ]
  },
  {
   "cell_type": "code",
   "execution_count": 23,
   "id": "41e3256b-c649-468d-b31a-2f654e57c940",
   "metadata": {},
   "outputs": [],
   "source": [
    "def model_train():\n",
    "  # number of epochs\n",
    "  numepochs = 25\n",
    "\n",
    "  # create a new model\n",
    "  net,lossfun,optimizer = createNNmodel()\n",
    "  # initialize losses\n",
    "  losses    = torch.zeros(numepochs)\n",
    "  trainAcc  = []\n",
    "  testAcc   = []\n",
    "\n",
    "  # loop over epochs\n",
    "  for epochs in range(numepochs):\n",
    "    # loop over training data batches\n",
    "    net.train()\n",
    "    batchAcc  = []\n",
    "    batchLoss = []\n",
    "    for X,y in train_loader:\n",
    "     # forward pass and loss\n",
    "      yHat = net(X)\n",
    "      yHat = yHat.view(-1)  # Flatten the output to match y\n",
    "      y = y.view(-1).float()  # Convert target to float\n",
    "      loss = lossfun(yHat, y)\n",
    "            \n",
    "      # backprop\n",
    "      optimizer.zero_grad()\n",
    "      loss.backward()\n",
    "      optimizer.step()\n",
    "      # loss from this batch\n",
    "      batchLoss.append(loss.item())\n",
    "        \n",
    "      # compute accuracy\n",
    "      #matches = torch.argmax(yHat,dim=1) == y     # booleans (false/true)\n",
    "      #matchesNumeric = matches.float()             # convert to numbers (0/1)\n",
    "      #accuracyPct = 100*torch.mean(matchesNumeric) # average and x100\n",
    "      #batchAcc.append( accuracyPct )               # add to list of accuracies\n",
    "\n",
    "      predictions = torch.round(torch.sigmoid(yHat))  # Get binary predictions\n",
    "      matches = predictions == y  # Compare with targets\n",
    "      accuracyPct = 100 * torch.mean(matches.float())  # Calculate accuracy\n",
    "      batchAcc.append(accuracyPct.item())\n",
    "    # end of batch loop\n",
    "    #  get ave training accuracy\n",
    "    trainAcc.append( np.mean(batchAcc) )\n",
    "    # and get average losses across the batches\n",
    "    losses[epochs] = np.mean(batchLoss)\n",
    "\n",
    "    # test accuracy\n",
    "    net.eval()\n",
    "    X,y = next(iter(test_loader)) # extract X,y from test dataloader\n",
    "      \n",
    "    with torch.no_grad(): # deactivates autograd\n",
    "      yHat = net(X)\n",
    "      yHat = yHat.view(-1)\n",
    "      y = y.view(-1, 1).float()\n",
    "    predictions = (torch.sigmoid(yHat) > 0.5).float()\n",
    "    testAcc.append(100 * torch.mean((predictions == y).float()).item())\n",
    "    # Clear cache after each epoch\n",
    "    gc.collect()\n",
    "  # end epochs\n",
    "  # function output\n",
    "  return trainAcc,testAcc,losses,net"
   ]
  },
  {
   "cell_type": "code",
   "execution_count": 25,
   "id": "ba75af56-4afe-4f15-9bc0-bfbe9151d69d",
   "metadata": {},
   "outputs": [],
   "source": [
    "trainAcc,testAcc,losses,net = model_train();"
   ]
  },
  {
   "cell_type": "code",
   "execution_count": 27,
   "id": "6ccf18f0-1595-491a-be20-23b74d8d5173",
   "metadata": {},
   "outputs": [
    {
     "data": {
      "image/png": "[encoded data removed]",
      "text/plain": [
       "<Figure size 1600x500 with 2 Axes>"
      ]
     },
     "metadata": {},
     "output_type": "display_data"
    }
   ],
   "source": [
    "fig,ax = plt.subplots(1,2,figsize=(16,5))\n",
    "ax[0].plot(losses,'s-')\n",
    "ax[0].set_xlabel('Epochs')\n",
    "ax[0].set_ylabel('Loss')\n",
    "ax[0].set_title('Model loss')\n",
    "ax[1].plot(trainAcc,'s-',label='Train')\n",
    "ax[1].plot(testAcc,'o-',label='Test')\n",
    "ax[1].set_xlabel('Epochs')\n",
    "ax[1].set_ylabel('Accuracy (%)')\n",
    "ax[1].set_title(f'Final model test accuracy: {testAcc[-1]:.2f}%')\n",
    "ax[1].legend()\n",
    "plt.show()"
   ]
  },
  {
   "cell_type": "code",
   "execution_count": 29,
   "id": "deab9330-bc2c-4b95-815b-7146954bb162",
   "metadata": {},
   "outputs": [],
   "source": [
    "def get_all_predictions(model, loader):\n",
    "    all_preds = []\n",
    "    all_labels = []\n",
    "    model.eval()\n",
    "    with torch.no_grad():\n",
    "        for images, labels in loader:\n",
    "            preds = model(images)\n",
    "            preds = torch.round(torch.sigmoid(preds.view(-1)))  # Get binary predictions\n",
    "            all_preds.append(preds.cpu())\n",
    "            all_labels.append(labels.view(-1).cpu())\n",
    "    return torch.cat(all_preds), torch.cat(all_labels)"
   ]
  },
  {
   "cell_type": "code",
   "execution_count": 31,
   "id": "139a6e20-e0b6-448b-8f08-d9c96948693a",
   "metadata": {},
   "outputs": [],
   "source": [
    "test_preds, test_labels = get_all_predictions(net, test_loader)"
   ]
  },
  {
   "cell_type": "code",
   "execution_count": 33,
   "id": "7fecd48d-31c8-4bf7-91af-120ef7f6a908",
   "metadata": {},
   "outputs": [],
   "source": [
    "cm = confusion_matrix(test_labels.cpu(), test_preds.cpu())"
   ]
  },
  {
   "cell_type": "code",
   "execution_count": 235,
   "id": "2b33c44c-0897-44ae-ba3d-e4d264a44e99",
   "metadata": {},
   "outputs": [
    {
     "data": {
      "text/plain": [
       "tensor([0., 0., 1., 0., 0., 0., 0., 0., 0., 0., 0., 0., 1., 0., 0., 0., 0., 0.,\n",
       "        0., 0., 0., 0., 0., 0., 0., 1., 0., 0., 0., 1., 0., 0., 0., 1., 1., 1.,\n",
       "        0., 0., 0., 0., 1., 0., 0., 0., 0., 0., 0., 0., 0., 0., 0., 0., 0., 0.,\n",
       "        1., 0., 1., 0., 0., 0., 0., 0., 1., 0.])"
      ]
     },
     "execution_count": 235,
     "metadata": {},
     "output_type": "execute_result"
    }
   ],
   "source": [
    "test_preds"
   ]
  },
  {
   "cell_type": "code",
   "execution_count": 35,
   "id": "844ee64d-08d4-4591-a6fc-185f3cee4351",
   "metadata": {},
   "outputs": [
    {
     "data": {
      "image/png": "[encoded data removed]",
      "text/plain": [
       "<Figure size 640x480 with 2 Axes>"
      ]
     },
     "metadata": {},
     "output_type": "display_data"
    }
   ],
   "source": [
    "classnames=['WT','KO']\n",
    "disp = ConfusionMatrixDisplay(confusion_matrix=cm,display_labels=classnames)\n",
    "disp.plot(cmap=plt.cm.Blues)\n",
    "plt.show()"
   ]
  },
  {
   "cell_type": "code",
   "execution_count": 37,
   "id": "1319aed9-f18a-4f70-82a3-1222d4ea6ffa",
   "metadata": {},
   "outputs": [
    {
     "data": {
      "text/plain": [
       "[50.0,\n",
       " 53.125,\n",
       " 50.0,\n",
       " 31.25,\n",
       " 37.5,\n",
       " 50.0,\n",
       " 62.5,\n",
       " 50.0,\n",
       " 68.75,\n",
       " 62.5,\n",
       " 43.75,\n",
       " 62.5,\n",
       " 50.0,\n",
       " 53.125,\n",
       " 50.0,\n",
       " 62.5,\n",
       " 53.125,\n",
       " 87.5,\n",
       " 50.0,\n",
       " 59.375,\n",
       " 50.0,\n",
       " 46.875,\n",
       " 50.0,\n",
       " 59.375,\n",
       " 78.125]"
      ]
     },
     "execution_count": 37,
     "metadata": {},
     "output_type": "execute_result"
    }
   ],
   "source": [
    "testAcc"
   ]
  },
  {
   "cell_type": "code",
   "execution_count": null,
   "id": "888a11d6-c73d-4cdf-a7ed-2d6312db9061",
   "metadata": {},
   "outputs": [],
   "source": []
  }
 ],
 "metadata": {
  "kernelspec": {
   "display_name": "Python 3 (ipykernel)",
   "language": "python",
   "name": "python3"
  },
  "language_info": {
   "codemirror_mode": {
    "name": "ipython",
    "version": 3
   },
   "file_extension": ".py",
   "mimetype": "text/x-python",
   "name": "python",
   "nbconvert_exporter": "python",
   "pygments_lexer": "ipython3",
   "version": "3.11.7"
  }
 },
 "nbformat": 4,
 "nbformat_minor": 5
}
